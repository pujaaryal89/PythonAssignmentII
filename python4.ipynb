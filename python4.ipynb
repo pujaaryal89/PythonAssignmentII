{
 "cells": [
  {
   "cell_type": "code",
   "execution_count": 53,
   "metadata": {},
   "outputs": [
    {
     "name": "stdout",
     "output_type": "stream",
     "text": [
      "Sorted list: ['Areya', 'Bina', 'Suyen', 'Ziya']\n",
      "first item is: Areya\n",
      "second item is: Bina\n"
     ]
    }
   ],
   "source": [
    "lst=[]\n",
    "name=[\"Suyen\",\"Bina\",\"Areya\",\"Ziya\"]\n",
    "lst.append(name)\n",
    "\n",
    "for n in lst:\n",
    "   n.sort()\n",
    "print('Sorted list:', n)\n",
    "print(\"first item is:\",n[0])\n",
    "print(\"second item is:\",n[1])\n"
   ]
  },
  {
   "cell_type": "code",
   "execution_count": 21,
   "metadata": {},
   "outputs": [],
   "source": [
    "\n"
   ]
  },
  {
   "cell_type": "code",
   "execution_count": null,
   "metadata": {},
   "outputs": [],
   "source": []
  }
 ],
 "metadata": {
  "kernelspec": {
   "display_name": "Python 3",
   "language": "python",
   "name": "python3"
  },
  "language_info": {
   "codemirror_mode": {
    "name": "ipython",
    "version": 3
   },
   "file_extension": ".py",
   "mimetype": "text/x-python",
   "name": "python",
   "nbconvert_exporter": "python",
   "pygments_lexer": "ipython3",
   "version": "3.7.6"
  }
 },
 "nbformat": 4,
 "nbformat_minor": 4
}
