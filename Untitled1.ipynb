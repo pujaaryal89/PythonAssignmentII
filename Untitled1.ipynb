{
 "cells": [
  {
   "cell_type": "code",
   "execution_count": 21,
   "metadata": {},
   "outputs": [
    {
     "name": "stdout",
     "output_type": "stream",
     "text": [
      "The list of student is :[('Puja', 'Aryal', 22), ('Sabitra', 'Dhital', 22), ('Binita', 'Dulal', 22), ('Richa', 'Khadka', 22)]\n",
      "the sorted list of student is:[('Binita', 'Dulal', 22), ('Puja', 'Aryal', 22), ('Richa', 'Khadka', 22), ('Sabitra', 'Dhital', 22)]\n"
     ]
    }
   ],
   "source": [
    "mytuple=(\"Puja\",\"Aryal\",22)\n",
    "list=[]\n",
    "\n",
    "list.append(mytuple)\n",
    "friend_tuple1=(\"Sabitra\",\"Dhital\",22)\n",
    "friend_tuple2=(\"Binita\",\"Dulal\",22)\n",
    "friend_tuple3=(\"Richa\",\"Khadka\",22)\n",
    "\n",
    "list.append(friend_tuple1)\n",
    "list.append(friend_tuple2)\n",
    "list.append(friend_tuple3)\n",
    "\n",
    "print(f'The list of student is :{list}')\n",
    "\n",
    "list.sort(key=lambda x: x[0])\n",
    "print(f'the sorted list of student is:{list}')\n",
    "\n",
    "\n"
   ]
  },
  {
   "cell_type": "code",
   "execution_count": null,
   "metadata": {},
   "outputs": [],
   "source": []
  }
 ],
 "metadata": {
  "kernelspec": {
   "display_name": "Python 3",
   "language": "python",
   "name": "python3"
  },
  "language_info": {
   "codemirror_mode": {
    "name": "ipython",
    "version": 3
   },
   "file_extension": ".py",
   "mimetype": "text/x-python",
   "name": "python",
   "nbconvert_exporter": "python",
   "pygments_lexer": "ipython3",
   "version": "3.7.6"
  }
 },
 "nbformat": 4,
 "nbformat_minor": 4
}
