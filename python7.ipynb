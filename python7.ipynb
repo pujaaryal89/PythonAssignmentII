{
 "cells": [
  {
   "cell_type": "code",
   "execution_count": 41,
   "metadata": {},
   "outputs": [
    {
     "name": "stdout",
     "output_type": "stream",
     "text": [
      "The sample list of tuple with firstname, lastname and age: [('Binita', 'Dulal', 25), ('Sabitra', 'Dhital', 23), ('Puja', 'Aryal', 22)]\n",
      "The average age after skipping \"None\" is: 0\n",
      "Name:Binita, old\n",
      "Name:Sabitra, old\n",
      "Name:Puja, old\n"
     ]
    }
   ],
   "source": [
    "def avg_function(numbers):\n",
    "    avg=0\n",
    "    sum=0\n",
    "    count=0\n",
    "    for n in numbers:\n",
    "        count+=1\n",
    "        sum += n[2]    \n",
    "        average= round((sum / count),2)    \n",
    "    return avg\n",
    "        \n",
    "def check_age(age,av_age):\n",
    "    if age != None:\n",
    "        if age > av_age:\n",
    "            return 'old'\n",
    "        else:\n",
    "            return 'young'\n",
    "    else:\n",
    "        return None \n",
    "\n",
    "friend_list=[(\"Binita\",\"Dulal\",25),(\"Sabitra\",\"Dhital\",23),(\"Puja\",\"Aryal\",22)]\n",
    "avg_age=avg_function(friend_list)\n",
    "    \n",
    "    \n",
    "\n",
    "print(f'The sample list of tuple with firstname, lastname and age: {friend_list}')\n",
    "print(f'The average age after skipping \"None\" is: {avg_age}')\n",
    "\n",
    "\n",
    "for friend in friend_list:\n",
    "    print(f'Name:{friend[0]}, {check_age(friend[2],avg_age)}')  \n",
    "\n",
    "    \n",
    "   \n",
    "    "
   ]
  },
  {
   "cell_type": "code",
   "execution_count": null,
   "metadata": {},
   "outputs": [],
   "source": []
  },
  {
   "cell_type": "code",
   "execution_count": null,
   "metadata": {},
   "outputs": [],
   "source": []
  }
 ],
 "metadata": {
  "kernelspec": {
   "display_name": "Python 3",
   "language": "python",
   "name": "python3"
  },
  "language_info": {
   "codemirror_mode": {
    "name": "ipython",
    "version": 3
   },
   "file_extension": ".py",
   "mimetype": "text/x-python",
   "name": "python",
   "nbconvert_exporter": "python",
   "pygments_lexer": "ipython3",
   "version": "3.7.6"
  }
 },
 "nbformat": 4,
 "nbformat_minor": 4
}
